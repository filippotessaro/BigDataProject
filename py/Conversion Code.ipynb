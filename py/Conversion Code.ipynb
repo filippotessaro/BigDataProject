{
 "cells": [
  {
   "cell_type": "code",
   "execution_count": null,
   "metadata": {},
   "outputs": [],
   "source": [
    "import geopandas as gpd\n",
    "import pandas as pd\n",
    "from geopandas import GeoDataFrame\n",
    "from shapely.geometry import Point, Polygon\n",
    "pd.set_option('display.max_colwidth', -1)"
   ]
  },
  {
   "cell_type": "code",
   "execution_count": null,
   "metadata": {},
   "outputs": [],
   "source": [
    "shapefile = gpd.read_file(\"/taxi_zones/taxi_zones.shp\")\n",
    "shapefile.plot()\n",
    "shapefile['geometry'] = shapefile.geometry.to_crs({'init': 'epsg:4326'})\n",
    "shapefile.plot()\n",
    "display(shapefile)"
   ]
  },
  {
   "cell_type": "code",
   "execution_count": null,
   "metadata": {},
   "outputs": [],
   "source": [
    "lat = [-74.18445299999995]\n",
    "long = [40.69499599999989]\n",
    "\n",
    "geometry = [Point(xy) for xy in zip(lat, long)]\n",
    "celldf = GeoDataFrame(crs=crs, geometry=geometry)\n",
    "print(celldf['geometry'])\n",
    "\n",
    "display(shapefile[shapefile['geometry'].contains(celldf['geometry'])]['LocationID'])\n"
   ]
  },
  {
   "cell_type": "code",
   "execution_count": null,
   "metadata": {},
   "outputs": [],
   "source": []
  }
 ],
 "metadata": {
  "kernelspec": {
   "display_name": "Python 3",
   "language": "python",
   "name": "python3"
  },
  "language_info": {
   "codemirror_mode": {
    "name": "ipython",
    "version": 3
   },
   "file_extension": ".py",
   "mimetype": "text/x-python",
   "name": "python",
   "nbconvert_exporter": "python",
   "pygments_lexer": "ipython3",
   "version": "3.7.1"
  }
 },
 "nbformat": 4,
 "nbformat_minor": 2
}
