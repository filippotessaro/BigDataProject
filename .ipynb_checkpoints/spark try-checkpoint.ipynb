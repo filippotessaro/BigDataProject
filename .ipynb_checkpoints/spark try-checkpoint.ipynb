{
 "cells": [
  {
   "cell_type": "code",
   "execution_count": 5,
   "metadata": {},
   "outputs": [],
   "source": [
    "import findspark\n",
    "findspark.init()\n",
    "import pyspark\n",
    "from pyspark.context import SparkContext\n",
    "from pyspark.sql.session import SparkSession\n",
    "\n",
    "sc = SparkContext.getOrCreate()\n",
    "spark = SparkSession(sc)\n",
    "\n",
    "df = spark.read.csv('data/yellow/yellow_tripdata_2018-01.csv', inferSchema = 'true', header = 'true', nullValue = 'null')\n",
    "\n"
   ]
  },
  {
   "cell_type": "code",
   "execution_count": 6,
   "metadata": {},
   "outputs": [
    {
     "name": "stdout",
     "output_type": "stream",
     "text": [
      "+--------+--------------------+---------------------+---------------+-------------+----------+------------------+------------+------------+------------+-----------+-----+-------+----------+------------+---------------------+------------+\n",
      "|VendorID|tpep_pickup_datetime|tpep_dropoff_datetime|passenger_count|trip_distance|RatecodeID|store_and_fwd_flag|PULocationID|DOLocationID|payment_type|fare_amount|extra|mta_tax|tip_amount|tolls_amount|improvement_surcharge|total_amount|\n",
      "+--------+--------------------+---------------------+---------------+-------------+----------+------------------+------------+------------+------------+-----------+-----+-------+----------+------------+---------------------+------------+\n",
      "|       1| 2018-01-01 00:21:05|  2018-01-01 00:24:23|              1|          0.5|         1|                 N|          41|          24|           2|        4.5|  0.5|    0.5|       0.0|         0.0|                  0.3|         5.8|\n",
      "|       1| 2018-01-01 00:44:55|  2018-01-01 01:03:05|              1|          2.7|         1|                 N|         239|         140|           2|       14.0|  0.5|    0.5|       0.0|         0.0|                  0.3|        15.3|\n",
      "|       1| 2018-01-01 00:08:26|  2018-01-01 00:14:21|              2|          0.8|         1|                 N|         262|         141|           1|        6.0|  0.5|    0.5|       1.0|         0.0|                  0.3|         8.3|\n",
      "|       1| 2018-01-01 00:20:22|  2018-01-01 00:52:51|              1|         10.2|         1|                 N|         140|         257|           2|       33.5|  0.5|    0.5|       0.0|         0.0|                  0.3|        34.8|\n",
      "|       1| 2018-01-01 00:09:18|  2018-01-01 00:27:06|              2|          2.5|         1|                 N|         246|         239|           1|       12.5|  0.5|    0.5|      2.75|         0.0|                  0.3|       16.55|\n",
      "|       1| 2018-01-01 00:29:29|  2018-01-01 00:32:48|              3|          0.5|         1|                 N|         143|         143|           2|        4.5|  0.5|    0.5|       0.0|         0.0|                  0.3|         5.8|\n",
      "|       1| 2018-01-01 00:38:08|  2018-01-01 00:48:24|              2|          1.7|         1|                 N|          50|         239|           1|        9.0|  0.5|    0.5|      2.05|         0.0|                  0.3|       12.35|\n",
      "|       1| 2018-01-01 00:49:29|  2018-01-01 00:51:53|              1|          0.7|         1|                 N|         239|         238|           1|        4.0|  0.5|    0.5|       1.0|         0.0|                  0.3|         6.3|\n",
      "|       1| 2018-01-01 00:56:38|  2018-01-01 01:01:05|              1|          1.0|         1|                 N|         238|          24|           1|        5.5|  0.5|    0.5|       1.7|         0.0|                  0.3|         8.5|\n",
      "|       1| 2018-01-01 00:17:04|  2018-01-01 00:22:24|              1|          0.7|         1|                 N|         170|         170|           2|        5.5|  0.5|    0.5|       0.0|         0.0|                  0.3|         6.8|\n",
      "|       1| 2018-01-01 00:41:03|  2018-01-01 00:46:49|              1|          0.6|         1|                 N|         162|         229|           1|        5.5|  0.5|    0.5|      1.35|         0.0|                  0.3|        8.15|\n",
      "|       1| 2018-01-01 00:52:54|  2018-01-01 01:17:33|              1|          3.5|         1|                 N|         141|         113|           2|       16.5|  0.5|    0.5|       0.0|         0.0|                  0.3|        17.8|\n",
      "|       2| 2018-01-01 00:17:54|  2018-01-01 00:22:05|              1|         1.04|         1|                 N|         137|         224|           2|        5.5|  0.5|    0.5|       0.0|         0.0|                  0.3|         6.8|\n",
      "|       2| 2018-01-01 00:24:47|  2018-01-01 00:34:20|              1|         1.22|         1|                 N|         224|          79|           2|        7.5|  0.5|    0.5|       0.0|         0.0|                  0.3|         8.8|\n",
      "|       2| 2018-01-01 00:37:57|  2018-01-01 00:53:43|              1|         1.92|         1|                 N|         234|         100|           2|       10.0|  0.5|    0.5|       0.0|         0.0|                  0.3|        11.3|\n",
      "|       1| 2018-01-01 00:35:53|  2018-01-01 00:52:59|              1|          5.7|         1|                 N|          13|         189|           1|       19.0|  0.5|    0.5|      4.05|         0.0|                  0.3|       24.35|\n",
      "|       2| 2018-01-01 00:30:47|  2018-01-01 01:13:20|              1|         3.74|         1|                 N|          48|         236|           1|       25.5|  0.5|    0.5|       6.7|         0.0|                  0.3|        33.5|\n",
      "|       1| 2018-01-01 00:21:45|  2018-01-01 00:25:58|              2|          0.6|         1|                 N|         163|         162|           1|        4.5|  0.5|    0.5|       1.7|         0.0|                  0.3|         7.5|\n",
      "|       1| 2018-01-01 00:31:11|  2018-01-01 01:07:56|              1|         10.9|         1|                 N|         229|          61|           2|       35.0|  0.5|    0.5|       0.0|         0.0|                  0.3|        36.3|\n",
      "|       2| 2018-01-01 00:15:42|  2018-01-01 00:21:38|              5|         1.22|         1|                 N|         236|          75|           2|        6.0|  0.5|    0.5|       0.0|         0.0|                  0.3|         7.3|\n",
      "+--------+--------------------+---------------------+---------------+-------------+----------+------------------+------------+------------+------------+-----------+-----+-------+----------+------------+---------------------+------------+\n",
      "only showing top 20 rows\n",
      "\n",
      "root\n",
      " |-- VendorID: integer (nullable = true)\n",
      " |-- tpep_pickup_datetime: timestamp (nullable = true)\n",
      " |-- tpep_dropoff_datetime: timestamp (nullable = true)\n",
      " |-- passenger_count: integer (nullable = true)\n",
      " |-- trip_distance: double (nullable = true)\n",
      " |-- RatecodeID: integer (nullable = true)\n",
      " |-- store_and_fwd_flag: string (nullable = true)\n",
      " |-- PULocationID: integer (nullable = true)\n",
      " |-- DOLocationID: integer (nullable = true)\n",
      " |-- payment_type: integer (nullable = true)\n",
      " |-- fare_amount: double (nullable = true)\n",
      " |-- extra: double (nullable = true)\n",
      " |-- mta_tax: double (nullable = true)\n",
      " |-- tip_amount: double (nullable = true)\n",
      " |-- tolls_amount: double (nullable = true)\n",
      " |-- improvement_surcharge: double (nullable = true)\n",
      " |-- total_amount: double (nullable = true)\n",
      "\n"
     ]
    }
   ],
   "source": [
    "df.show()\n",
    "df.printSchema()\n",
    "\n"
   ]
  },
  {
   "cell_type": "code",
   "execution_count": 7,
   "metadata": {},
   "outputs": [],
   "source": [
    "sc.stop()"
   ]
  }
 ],
 "metadata": {
  "kernelspec": {
   "display_name": "Python 3",
   "language": "python",
   "name": "python3"
  },
  "language_info": {
   "codemirror_mode": {
    "name": "ipython",
    "version": 3
   },
   "file_extension": ".py",
   "mimetype": "text/x-python",
   "name": "python",
   "nbconvert_exporter": "python",
   "pygments_lexer": "ipython3",
   "version": "3.7.1"
  }
 },
 "nbformat": 4,
 "nbformat_minor": 2
}
